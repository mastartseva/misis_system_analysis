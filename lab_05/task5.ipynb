{
 "cells": [
  {
   "cell_type": "markdown",
   "metadata": {},
   "source": [
    "На основе материала лекций и практических занятий по теме “Согласование экспертных оценок: кластерные ранжировки” (теория в популярном изложении, теория с формализацией) напишите функцию на языке программирования python, которая получает в качестве аргумента две json-строки, содержащие две ранжировки (примеры исходный данных и результатов) и возвращает json-строку, содержащую ядро противоречий (пример) для заданных ранжировок. \n",
    "\n",
    "Функция должна иметь имя main и находится в файле task.py в папке task5 вашего репозитория на GitHub. "
   ]
  },
  {
   "cell_type": "code",
   "execution_count": 5,
   "metadata": {},
   "outputs": [],
   "source": [
    "import json"
   ]
  },
  {
   "cell_type": "code",
   "execution_count": 6,
   "metadata": {},
   "outputs": [
    {
     "ename": "TypeError",
     "evalue": "'int' object is not iterable",
     "output_type": "error",
     "traceback": [
      "\u001b[1;31m---------------------------------------------------------------------------\u001b[0m",
      "\u001b[1;31mTypeError\u001b[0m                                 Traceback (most recent call last)",
      "Cell \u001b[1;32mIn[6], line 56\u001b[0m\n\u001b[0;32m     53\u001b[0m     \u001b[38;5;66;03m#with open(\"task5_result.json\", \"w\") as output_file: \u001b[39;00m\n\u001b[0;32m     54\u001b[0m     \u001b[38;5;66;03m#    json.dump({\"consistent_ranking\": consistent_ranking}, output_file, ensure_ascii=False, indent=4)\u001b[39;00m\n\u001b[0;32m     55\u001b[0m \u001b[38;5;28;01mif\u001b[39;00m \u001b[38;5;18m__name__\u001b[39m \u001b[38;5;241m==\u001b[39m \u001b[38;5;124m\"\u001b[39m\u001b[38;5;124m__main__\u001b[39m\u001b[38;5;124m\"\u001b[39m:\n\u001b[1;32m---> 56\u001b[0m     \u001b[43mmain\u001b[49m\u001b[43m(\u001b[49m\u001b[43m)\u001b[49m\n",
      "Cell \u001b[1;32mIn[6], line 46\u001b[0m, in \u001b[0;36mmain\u001b[1;34m()\u001b[0m\n\u001b[0;32m     43\u001b[0m matrix_c \u001b[38;5;241m=\u001b[39m load_matrix_from_file(\u001b[38;5;124m\"\u001b[39m\u001b[38;5;124mmatrix_c.json\u001b[39m\u001b[38;5;124m\"\u001b[39m)\n\u001b[0;32m     45\u001b[0m num_elements \u001b[38;5;241m=\u001b[39m \u001b[38;5;241m10\u001b[39m  \n\u001b[1;32m---> 46\u001b[0m matrices \u001b[38;5;241m=\u001b[39m \u001b[43m[\u001b[49m\u001b[43mbuild_matrix\u001b[49m\u001b[43m(\u001b[49m\u001b[43mmatrix\u001b[49m\u001b[43m,\u001b[49m\u001b[43m \u001b[49m\u001b[43mnum_elements\u001b[49m\u001b[43m)\u001b[49m\u001b[43m \u001b[49m\u001b[38;5;28;43;01mfor\u001b[39;49;00m\u001b[43m \u001b[49m\u001b[43mmatrix\u001b[49m\u001b[43m \u001b[49m\u001b[38;5;129;43;01min\u001b[39;49;00m\u001b[43m \u001b[49m\u001b[43m[\u001b[49m\u001b[43mmatrix_a\u001b[49m\u001b[43m,\u001b[49m\u001b[43m \u001b[49m\u001b[43mmatrix_b\u001b[49m\u001b[43m,\u001b[49m\u001b[43m \u001b[49m\u001b[43mmatrix_c\u001b[49m\u001b[43m]\u001b[49m\u001b[43m]\u001b[49m\n\u001b[0;32m     47\u001b[0m combined_matrix \u001b[38;5;241m=\u001b[39m combine_matrices(matrices)\n\u001b[0;32m     49\u001b[0m consistent_ranking \u001b[38;5;241m=\u001b[39m extract_consistent_ranking(combined_matrix)\n",
      "Cell \u001b[1;32mIn[6], line 46\u001b[0m, in \u001b[0;36m<listcomp>\u001b[1;34m(.0)\u001b[0m\n\u001b[0;32m     43\u001b[0m matrix_c \u001b[38;5;241m=\u001b[39m load_matrix_from_file(\u001b[38;5;124m\"\u001b[39m\u001b[38;5;124mmatrix_c.json\u001b[39m\u001b[38;5;124m\"\u001b[39m)\n\u001b[0;32m     45\u001b[0m num_elements \u001b[38;5;241m=\u001b[39m \u001b[38;5;241m10\u001b[39m  \n\u001b[1;32m---> 46\u001b[0m matrices \u001b[38;5;241m=\u001b[39m [\u001b[43mbuild_matrix\u001b[49m\u001b[43m(\u001b[49m\u001b[43mmatrix\u001b[49m\u001b[43m,\u001b[49m\u001b[43m \u001b[49m\u001b[43mnum_elements\u001b[49m\u001b[43m)\u001b[49m \u001b[38;5;28;01mfor\u001b[39;00m matrix \u001b[38;5;129;01min\u001b[39;00m [matrix_a, matrix_b, matrix_c]]\n\u001b[0;32m     47\u001b[0m combined_matrix \u001b[38;5;241m=\u001b[39m combine_matrices(matrices)\n\u001b[0;32m     49\u001b[0m consistent_ranking \u001b[38;5;241m=\u001b[39m extract_consistent_ranking(combined_matrix)\n",
      "Cell \u001b[1;32mIn[6], line 4\u001b[0m, in \u001b[0;36mbuild_matrix\u001b[1;34m(rank_list, num_elements)\u001b[0m\n\u001b[0;32m      2\u001b[0m matrix \u001b[38;5;241m=\u001b[39m [[\u001b[38;5;241m0\u001b[39m] \u001b[38;5;241m*\u001b[39m num_elements \u001b[38;5;28;01mfor\u001b[39;00m _ \u001b[38;5;129;01min\u001b[39;00m \u001b[38;5;28mrange\u001b[39m(num_elements)]\n\u001b[0;32m      3\u001b[0m \u001b[38;5;28;01mfor\u001b[39;00m i, group \u001b[38;5;129;01min\u001b[39;00m \u001b[38;5;28menumerate\u001b[39m(rank_list):\n\u001b[1;32m----> 4\u001b[0m \u001b[43m    \u001b[49m\u001b[38;5;28;43;01mfor\u001b[39;49;00m\u001b[43m \u001b[49m\u001b[43mx\u001b[49m\u001b[43m \u001b[49m\u001b[38;5;129;43;01min\u001b[39;49;00m\u001b[43m \u001b[49m\u001b[43mgroup\u001b[49m\u001b[43m:\u001b[49m\n\u001b[0;32m      5\u001b[0m \u001b[43m        \u001b[49m\u001b[38;5;28;43;01mfor\u001b[39;49;00m\u001b[43m \u001b[49m\u001b[43mj\u001b[49m\u001b[43m \u001b[49m\u001b[38;5;129;43;01min\u001b[39;49;00m\u001b[43m \u001b[49m\u001b[38;5;28;43mrange\u001b[39;49m\u001b[43m(\u001b[49m\u001b[43mi\u001b[49m\u001b[43m \u001b[49m\u001b[38;5;241;43m+\u001b[39;49m\u001b[43m \u001b[49m\u001b[38;5;241;43m1\u001b[39;49m\u001b[43m)\u001b[49m\u001b[43m:\u001b[49m\n\u001b[0;32m      6\u001b[0m \u001b[43m            \u001b[49m\u001b[38;5;28;43;01mfor\u001b[39;49;00m\u001b[43m \u001b[49m\u001b[43my\u001b[49m\u001b[43m \u001b[49m\u001b[38;5;129;43;01min\u001b[39;49;00m\u001b[43m \u001b[49m\u001b[43mrank_list\u001b[49m\u001b[43m[\u001b[49m\u001b[43mj\u001b[49m\u001b[43m]\u001b[49m\u001b[43m:\u001b[49m\n",
      "\u001b[1;31mTypeError\u001b[0m: 'int' object is not iterable"
     ]
    }
   ],
   "source": [
    "def build_matrix(rank_list, num_elements):\n",
    "    matrix = [[0] * num_elements for _ in range(num_elements)]\n",
    "    for i, group in enumerate(rank_list):\n",
    "        for x in group:\n",
    "            for j in range(i + 1):\n",
    "                for y in rank_list[j]:\n",
    "                    matrix[x - 1][y - 1] = 1\n",
    "    return matrix\n",
    "\n",
    "def combine_matrices(matrix_list):\n",
    "    num_elements = len(matrix_list[0])\n",
    "    combined_matrix = [[1] * num_elements for _ in range(num_elements)]\n",
    "    for i in range(num_elements):\n",
    "        for j in range(num_elements):\n",
    "            combined_matrix[i][j] = all(matrix[i][j] == 1 for matrix in matrix_list)\n",
    "    return combined_matrix\n",
    "\n",
    "def extract_consistent_ranking(matrix):\n",
    "    num_elements = len(matrix)\n",
    "    visited = [False] * num_elements\n",
    "    final_ranking = []\n",
    "\n",
    "    for i in range(num_elements):\n",
    "        if visited[i]:\n",
    "            continue\n",
    "        group = [i + 1]\n",
    "        visited[i] = True\n",
    "        for j in range(i + 1, num_elements):\n",
    "            if matrix[i][j] == 1 and matrix[j][i] == 1:\n",
    "                group.append(j + 1)\n",
    "                visited[j] = True\n",
    "        final_ranking.append(group if len(group) > 1 else group[0])\n",
    "\n",
    "    return final_ranking\n",
    "\n",
    "def load_matrix_from_file(filename):\n",
    "    with open(filename) as file:\n",
    "        return json.load(file)\n",
    "\n",
    "def main():\n",
    "    matrix_a = load_matrix_from_file(\"matrix_a.json\")\n",
    "    matrix_b = load_matrix_from_file(\"matrix_b.json\")\n",
    "    matrix_c = load_matrix_from_file(\"matrix_c.json\")\n",
    "\n",
    "    num_elements = 10  \n",
    "    matrices = [build_matrix(matrix, num_elements) for matrix in [matrix_a, matrix_b, matrix_c]]\n",
    "    combined_matrix = combine_matrices(matrices)\n",
    "\n",
    "    consistent_ranking = extract_consistent_ranking(combined_matrix)\n",
    "    \n",
    "    print(\"Согласующая ранжировка:\", consistent_ranking)\n",
    "\n",
    "    with open(\"task5_result.json\", \"w\") as output_file: \n",
    "        json.dump({\"consistent_ranking\": consistent_ranking}, output_file, ensure_ascii=False, indent=4)\n",
    "if __name__ == \"__main__\":\n",
    "    main()"
   ]
  }
 ],
 "metadata": {
  "kernelspec": {
   "display_name": "Python 3",
   "language": "python",
   "name": "python3"
  },
  "language_info": {
   "codemirror_mode": {
    "name": "ipython",
    "version": 3
   },
   "file_extension": ".py",
   "mimetype": "text/x-python",
   "name": "python",
   "nbconvert_exporter": "python",
   "pygments_lexer": "ipython3",
   "version": "3.11.9"
  }
 },
 "nbformat": 4,
 "nbformat_minor": 2
}
